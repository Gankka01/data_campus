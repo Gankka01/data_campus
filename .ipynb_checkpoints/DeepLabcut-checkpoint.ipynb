{
 "cells": [
  {
   "cell_type": "code",
   "execution_count": 5,
   "id": "f596d706-d39e-458d-94e9-cf5f28f2db73",
   "metadata": {
    "scrolled": true,
    "tags": []
   },
   "outputs": [],
   "source": [
    "import numpy as np\n",
    "import pandas as pd\n",
    "import tensorflow\n",
    "import deeplabcut as dlc"
   ]
  },
  {
   "cell_type": "code",
   "execution_count": 14,
   "id": "11f008bc-edcd-4f3a-9636-12bb71e91afa",
   "metadata": {},
   "outputs": [
    {
     "name": "stdout",
     "output_type": "stream",
     "text": [
      "Created \"C:\\Users\\User\\Documents\\GitHub\\data_campus\\sample1-Jang-2023-07-30\\videos\"\n",
      "Created \"C:\\Users\\User\\Documents\\GitHub\\data_campus\\sample1-Jang-2023-07-30\\labeled-data\"\n",
      "Created \"C:\\Users\\User\\Documents\\GitHub\\data_campus\\sample1-Jang-2023-07-30\\training-datasets\"\n",
      "Created \"C:\\Users\\User\\Documents\\GitHub\\data_campus\\sample1-Jang-2023-07-30\\dlc-models\"\n",
      "Attempting to create a symbolic link of the video ...\n",
      "Symlink creation impossible (exFat architecture?): cutting/pasting the video instead.\n",
      "sample1.mp4 moved to C:\\Users\\User\\Documents\\GitHub\\data_campus\\sample1-Jang-2023-07-30\\videos\\sample1.mp4\n",
      "C:\\Users\\User\\Documents\\GitHub\\data_campus\\sample1-Jang-2023-07-30\\videos\\sample1.mp4\n",
      "Generated \"C:\\Users\\User\\Documents\\GitHub\\data_campus\\sample1-Jang-2023-07-30\\config.yaml\"\n",
      "\n",
      "A new project with name sample1-Jang-2023-07-30 is created at C:\\Users\\User\\Documents\\GitHub\\data_campus and a configurable file (config.yaml) is stored there. Change the parameters in this file to adapt to your project's needs.\n",
      " Once you have changed the configuration file, use the function 'extract_frames' to select frames for labeling.\n",
      ". [OPTIONAL] Use the function 'add_new_videos' to add new videos to your project (at any stage).\n"
     ]
    },
    {
     "data": {
      "text/plain": [
       "'C:\\\\Users\\\\User\\\\Documents\\\\GitHub\\\\data_campus\\\\sample1-Jang-2023-07-30\\\\config.yaml'"
      ]
     },
     "execution_count": 14,
     "metadata": {},
     "output_type": "execute_result"
    }
   ],
   "source": [
    "deeplabcut.create_new_project('sample1', 'Jang', ['./sample1.mp4'])"
   ]
  },
  {
   "cell_type": "code",
   "execution_count": 9,
   "id": "a5ac9d2e-d5f5-477d-a032-d7f1b7a08e7f",
   "metadata": {},
   "outputs": [],
   "source": [
    "#path_config = ‘C:\\\\Users\\\\Woong\\\\MyAnimal-Deeperent-2019-11-13\\\\config.yaml’\n",
    "path_config = './sample1-Jang-2023-07-30/config.yaml'"
   ]
  },
  {
   "cell_type": "code",
   "execution_count": 11,
   "id": "8165d59c-1bdc-4e37-bdb9-f811fd08d65d",
   "metadata": {},
   "outputs": [
    {
     "ename": "FileNotFoundError",
     "evalue": "Config file is not found. Please make sure that the file exists and/or that you passed the path of the config file correctly!",
     "output_type": "error",
     "traceback": [
      "\u001b[1;31m---------------------------------------------------------------------------\u001b[0m",
      "\u001b[1;31mFileNotFoundError\u001b[0m                         Traceback (most recent call last)",
      "Cell \u001b[1;32mIn[11], line 1\u001b[0m\n\u001b[1;32m----> 1\u001b[0m deeplabcut\u001b[38;5;241m.\u001b[39mextract_frames(path_config,\u001b[38;5;124m'\u001b[39m\u001b[38;5;124mautomatic\u001b[39m\u001b[38;5;124m'\u001b[39m,\u001b[38;5;124m'\u001b[39m\u001b[38;5;124mkmeans\u001b[39m\u001b[38;5;124m'\u001b[39m)\n",
      "File \u001b[1;32m~\\anaconda3\\envs\\DEEPLABCUT\\Lib\\site-packages\\deeplabcut\\generate_training_dataset\\frame_extraction.py:274\u001b[0m, in \u001b[0;36mextract_frames\u001b[1;34m(config, mode, algo, crop, userfeedback, cluster_step, cluster_resizewidth, cluster_color, opencv, slider_width, config3d, extracted_cam, videos_list)\u001b[0m\n\u001b[0;32m    272\u001b[0m \u001b[38;5;28;01melif\u001b[39;00m mode \u001b[38;5;241m==\u001b[39m \u001b[38;5;124m\"\u001b[39m\u001b[38;5;124mautomatic\u001b[39m\u001b[38;5;124m\"\u001b[39m:\n\u001b[0;32m    273\u001b[0m     config_file \u001b[38;5;241m=\u001b[39m Path(config)\u001b[38;5;241m.\u001b[39mresolve()\n\u001b[1;32m--> 274\u001b[0m     cfg \u001b[38;5;241m=\u001b[39m auxiliaryfunctions\u001b[38;5;241m.\u001b[39mread_config(config_file)\n\u001b[0;32m    275\u001b[0m     \u001b[38;5;28mprint\u001b[39m(\u001b[38;5;124m\"\u001b[39m\u001b[38;5;124mConfig file read successfully.\u001b[39m\u001b[38;5;124m\"\u001b[39m)\n\u001b[0;32m    277\u001b[0m     numframes2pick \u001b[38;5;241m=\u001b[39m cfg[\u001b[38;5;124m\"\u001b[39m\u001b[38;5;124mnumframes2pick\u001b[39m\u001b[38;5;124m\"\u001b[39m]\n",
      "File \u001b[1;32m~\\anaconda3\\envs\\DEEPLABCUT\\Lib\\site-packages\\deeplabcut\\utils\\auxiliaryfunctions.py:207\u001b[0m, in \u001b[0;36mread_config\u001b[1;34m(configname)\u001b[0m\n\u001b[0;32m    204\u001b[0m                 \u001b[38;5;28;01mraise\u001b[39;00m\n\u001b[0;32m    206\u001b[0m \u001b[38;5;28;01melse\u001b[39;00m:\n\u001b[1;32m--> 207\u001b[0m     \u001b[38;5;28;01mraise\u001b[39;00m \u001b[38;5;167;01mFileNotFoundError\u001b[39;00m(\n\u001b[0;32m    208\u001b[0m         \u001b[38;5;124m\"\u001b[39m\u001b[38;5;124mConfig file is not found. Please make sure that the file exists and/or that you passed the path of the config file correctly!\u001b[39m\u001b[38;5;124m\"\u001b[39m\n\u001b[0;32m    209\u001b[0m     )\n\u001b[0;32m    210\u001b[0m \u001b[38;5;28;01mreturn\u001b[39;00m cfg\n",
      "\u001b[1;31mFileNotFoundError\u001b[0m: Config file is not found. Please make sure that the file exists and/or that you passed the path of the config file correctly!"
     ]
    }
   ],
   "source": [
    "deeplabcut.extract_frames(path_config,'automatic','kmeans');"
   ]
  },
  {
   "cell_type": "code",
   "execution_count": null,
   "id": "b0339663-4624-424b-8524-c3e6e1fdb89f",
   "metadata": {},
   "outputs": [],
   "source": []
  }
 ],
 "metadata": {
  "kernelspec": {
   "display_name": "Python [conda env:DEEPLABCUT] *",
   "language": "python",
   "name": "conda-env-DEEPLABCUT-py"
  },
  "language_info": {
   "codemirror_mode": {
    "name": "ipython",
    "version": 3
   },
   "file_extension": ".py",
   "mimetype": "text/x-python",
   "name": "python",
   "nbconvert_exporter": "python",
   "pygments_lexer": "ipython3",
   "version": "3.11.4"
  }
 },
 "nbformat": 4,
 "nbformat_minor": 5
}
