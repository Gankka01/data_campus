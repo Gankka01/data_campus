{
 "cells": [
  {
   "cell_type": "code",
   "execution_count": 21,
   "id": "f596d706-d39e-458d-94e9-cf5f28f2db73",
   "metadata": {
    "scrolled": true,
    "tags": []
   },
   "outputs": [],
   "source": [
    "import numpy as np\n",
    "import pandas as pd\n",
    "import tensorflow\n",
    "import deeplabcut as dlc\n",
    "import os\n",
    "import h5py"
   ]
  },
  {
   "cell_type": "code",
   "execution_count": 43,
   "id": "11f008bc-edcd-4f3a-9636-12bb71e91afa",
   "metadata": {},
   "outputs": [
    {
     "name": "stdout",
     "output_type": "stream",
     "text": [
      "Created \"C:\\Users\\User\\Documents\\GitHub\\data_campus\\sample1-Jang-2023-07-30\\videos\"\n",
      "Created \"C:\\Users\\User\\Documents\\GitHub\\data_campus\\sample1-Jang-2023-07-30\\labeled-data\"\n",
      "Created \"C:\\Users\\User\\Documents\\GitHub\\data_campus\\sample1-Jang-2023-07-30\\training-datasets\"\n",
      "Created \"C:\\Users\\User\\Documents\\GitHub\\data_campus\\sample1-Jang-2023-07-30\\dlc-models\"\n",
      "Attempting to create a symbolic link of the video ...\n",
      "Symlink creation impossible (exFat architecture?): cutting/pasting the video instead.\n",
      "sample1.mp4 moved to C:\\Users\\User\\Documents\\GitHub\\data_campus\\sample1-Jang-2023-07-30\\videos\\sample1.mp4\n",
      "C:\\Users\\User\\Documents\\GitHub\\data_campus\\sample1-Jang-2023-07-30\\videos\\sample1.mp4\n",
      "Generated \"C:\\Users\\User\\Documents\\GitHub\\data_campus\\sample1-Jang-2023-07-30\\config.yaml\"\n",
      "\n",
      "A new project with name sample1-Jang-2023-07-30 is created at C:\\Users\\User\\Documents\\GitHub\\data_campus and a configurable file (config.yaml) is stored there. Change the parameters in this file to adapt to your project's needs.\n",
      " Once you have changed the configuration file, use the function 'extract_frames' to select frames for labeling.\n",
      ". [OPTIONAL] Use the function 'add_new_videos' to add new videos to your project (at any stage).\n"
     ]
    },
    {
     "data": {
      "text/plain": [
       "'C:\\\\Users\\\\User\\\\Documents\\\\GitHub\\\\data_campus\\\\sample1-Jang-2023-07-30\\\\config.yaml'"
      ]
     },
     "execution_count": 43,
     "metadata": {},
     "output_type": "execute_result"
    }
   ],
   "source": [
    "deeplabcut.create_new_project('sample1', 'Jang', ['./sample1.mp4'])"
   ]
  },
  {
   "cell_type": "code",
   "execution_count": 57,
   "id": "5971706c-a50d-4223-a1c5-94d6360b02d4",
   "metadata": {},
   "outputs": [
    {
     "name": "stdout",
     "output_type": "stream",
     "text": [
      "C:\\Users\\User\\Documents\\GitHub\\data_campus\\sample1-Jang-2023-07-30\\labeled-data\\sample1\\CollectedData_Jang.h5  not found (perhaps not annotated).\n",
      "Annotation data was not found by splitting video paths (from config['video_sets']). An alternative route is taken...\n",
      "The following folders were found: ['C:\\\\Users\\\\User\\\\Documents\\\\GitHub\\\\data_campus\\\\sample1-Jang-2023-07-30\\\\labeled-data\\\\sample1']\n",
      "C:\\Users\\User\\Documents\\GitHub\\data_campus\\sample1-Jang-2023-07-30\\labeled-data\\sample1\\CollectedData_Jang.h5  not found (perhaps not annotated)\n",
      "No data was found!\n"
     ]
    }
   ],
   "source": [
    "# deeplabcut.create_training_dataset('sample1-Jang-2023-07-30')\n",
    "project_path = 'C:\\\\Users\\\\User\\\\Documents\\\\GitHub\\\\data_campus\\\\sample1-Jang-2023-07-30'\n",
    "config_path = 'C:\\\\Users\\\\User\\\\Documents\\\\GitHub\\\\data_campus\\\\sample1-Jang-2023-07-30\\\\config.yaml'\n",
    "deeplabcut.create_training_dataset(config_path)"
   ]
  },
  {
   "cell_type": "code",
   "execution_count": null,
   "id": "fa207ca6-3370-447b-827e-076633a42017",
   "metadata": {},
   "outputs": [],
   "source": [
    "deeplabcut.train_network(config_path, \n",
    "                                   displayiters = 1000, #1000번째 반복마다 결과를 출력\n",
    "                                   saveiters = 50000, #50000번째 반복마다 결과를 저장\n",
    "                                   max_snapshots_to_keep = 10, #저장할 중간 결과 스냅샷\n",
    "                                   maxiters = 1330000, #학습을 할 최대 갯수\n",
    "                                   gputouse = (0, 1, 2, 3))"
   ]
  }
 ],
 "metadata": {
  "kernelspec": {
   "display_name": "Python [conda env:DEEPLABCUT] *",
   "language": "python",
   "name": "conda-env-DEEPLABCUT-py"
  },
  "language_info": {
   "codemirror_mode": {
    "name": "ipython",
    "version": 3
   },
   "file_extension": ".py",
   "mimetype": "text/x-python",
   "name": "python",
   "nbconvert_exporter": "python",
   "pygments_lexer": "ipython3",
   "version": "3.11.4"
  }
 },
 "nbformat": 4,
 "nbformat_minor": 5
}
