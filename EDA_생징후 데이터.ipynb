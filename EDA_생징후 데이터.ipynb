{
 "cells": [
  {
   "cell_type": "code",
   "execution_count": 36,
   "id": "e6e3bcff-0452-4f5a-a554-106b3482adf4",
   "metadata": {},
   "outputs": [],
   "source": [
    "import pandas as pd\n",
    "import numpy as np\n",
    "import matplotlib.pyplot as plt\n",
    "import seaborn as sns"
   ]
  },
  {
   "cell_type": "code",
   "execution_count": 23,
   "id": "9178bd1d-72a6-4ecb-b7a7-eb22f5e95adc",
   "metadata": {},
   "outputs": [],
   "source": [
    "# 바탕질환 데이터 가져오기\n",
    "data = pd.read_csv('./(항생제) 환자 바탕질환 데이터/TB_YP_DS_D.csv')\n",
    "df_DS = data.copy()\n",
    "# PK열 정보 가져오기\n",
    "man = ['man' + str(x) for x in range(len(df_DS['VTHOS_NO'].unique()))]\n",
    "manlist = dict(zip(df_DS['VTHOS_NO'].unique(), man))\n",
    "rgno = ['no.' + str(x) for x in range(len(df_DS['RGNO'].unique()))]\n",
    "rgno_list = dict(zip(df_DS['RGNO'].unique(), rgno))"
   ]
  },
  {
   "cell_type": "code",
   "execution_count": 4,
   "id": "d3660a18-fa95-480d-9cf2-29105e01d223",
   "metadata": {},
   "outputs": [],
   "source": [
    "data = pd.read_csv('./(항생제) 항생제 처방 전후의 생징후 데이터/TB_YP_SIGN_M_1.csv')\n",
    "df_sign = data.copy()"
   ]
  },
  {
   "cell_type": "code",
   "execution_count": 24,
   "id": "85b2e88d-7961-4903-ae81-530869d2f114",
   "metadata": {},
   "outputs": [],
   "source": [
    "df_sign['VTHOS_NO'] = df_sign['VTHOS_NO'].apply(lambda x: manlist.get(x, x))\n",
    "df_sign['RGNO'] = df_sign['RGNO'].apply(lambda x: rgno_list.get(x, x))"
   ]
  },
  {
   "cell_type": "code",
   "execution_count": 35,
   "id": "0a7f9dbf-b820-4b72-b57e-7411e5426ac0",
   "metadata": {},
   "outputs": [
    {
     "data": {
      "text/html": [
       "<div>\n",
       "<style scoped>\n",
       "    .dataframe tbody tr th:only-of-type {\n",
       "        vertical-align: middle;\n",
       "    }\n",
       "\n",
       "    .dataframe tbody tr th {\n",
       "        vertical-align: top;\n",
       "    }\n",
       "\n",
       "    .dataframe thead th {\n",
       "        text-align: right;\n",
       "    }\n",
       "</style>\n",
       "<table border=\"1\" class=\"dataframe\">\n",
       "  <thead>\n",
       "    <tr style=\"text-align: right;\">\n",
       "      <th></th>\n",
       "      <th>VTHOS_NO</th>\n",
       "      <th>RGNO</th>\n",
       "      <th>IEM_NM</th>\n",
       "      <th>INP_YMD</th>\n",
       "      <th>IEM_CONT</th>\n",
       "    </tr>\n",
       "  </thead>\n",
       "  <tbody>\n",
       "    <tr>\n",
       "      <th>4613</th>\n",
       "      <td>man3084</td>\n",
       "      <td>no.2663</td>\n",
       "      <td>맥박</td>\n",
       "      <td>20710116</td>\n",
       "      <td>80</td>\n",
       "    </tr>\n",
       "    <tr>\n",
       "      <th>4614</th>\n",
       "      <td>man3084</td>\n",
       "      <td>no.2663</td>\n",
       "      <td>호흡</td>\n",
       "      <td>20710116</td>\n",
       "      <td>18</td>\n",
       "    </tr>\n",
       "    <tr>\n",
       "      <th>4615</th>\n",
       "      <td>man3084</td>\n",
       "      <td>no.2663</td>\n",
       "      <td>체온</td>\n",
       "      <td>20710116</td>\n",
       "      <td>36</td>\n",
       "    </tr>\n",
       "    <tr>\n",
       "      <th>4616</th>\n",
       "      <td>man3084</td>\n",
       "      <td>no.2663</td>\n",
       "      <td>SBP</td>\n",
       "      <td>20710116</td>\n",
       "      <td>134</td>\n",
       "    </tr>\n",
       "    <tr>\n",
       "      <th>4617</th>\n",
       "      <td>man3084</td>\n",
       "      <td>no.2663</td>\n",
       "      <td>DBP</td>\n",
       "      <td>20710116</td>\n",
       "      <td>71</td>\n",
       "    </tr>\n",
       "    <tr>\n",
       "      <th>...</th>\n",
       "      <td>...</td>\n",
       "      <td>...</td>\n",
       "      <td>...</td>\n",
       "      <td>...</td>\n",
       "      <td>...</td>\n",
       "    </tr>\n",
       "    <tr>\n",
       "      <th>899995</th>\n",
       "      <td>man1555</td>\n",
       "      <td>no.1433</td>\n",
       "      <td>DBP</td>\n",
       "      <td>20400731</td>\n",
       "      <td>64</td>\n",
       "    </tr>\n",
       "    <tr>\n",
       "      <th>899996</th>\n",
       "      <td>man1555</td>\n",
       "      <td>no.1433</td>\n",
       "      <td>맥박</td>\n",
       "      <td>20400731</td>\n",
       "      <td>44</td>\n",
       "    </tr>\n",
       "    <tr>\n",
       "      <th>899997</th>\n",
       "      <td>man1555</td>\n",
       "      <td>no.1433</td>\n",
       "      <td>호흡</td>\n",
       "      <td>20400731</td>\n",
       "      <td>18</td>\n",
       "    </tr>\n",
       "    <tr>\n",
       "      <th>899998</th>\n",
       "      <td>man1555</td>\n",
       "      <td>no.1433</td>\n",
       "      <td>체온</td>\n",
       "      <td>20400731</td>\n",
       "      <td>36.6</td>\n",
       "    </tr>\n",
       "    <tr>\n",
       "      <th>899999</th>\n",
       "      <td>man1555</td>\n",
       "      <td>no.1433</td>\n",
       "      <td>SBP</td>\n",
       "      <td>20400731</td>\n",
       "      <td>140</td>\n",
       "    </tr>\n",
       "  </tbody>\n",
       "</table>\n",
       "<p>266239 rows × 5 columns</p>\n",
       "</div>"
      ],
      "text/plain": [
       "       VTHOS_NO     RGNO IEM_NM   INP_YMD IEM_CONT\n",
       "4613    man3084  no.2663     맥박  20710116       80\n",
       "4614    man3084  no.2663     호흡  20710116       18\n",
       "4615    man3084  no.2663     체온  20710116       36\n",
       "4616    man3084  no.2663    SBP  20710116      134\n",
       "4617    man3084  no.2663    DBP  20710116       71\n",
       "...         ...      ...    ...       ...      ...\n",
       "899995  man1555  no.1433    DBP  20400731       64\n",
       "899996  man1555  no.1433     맥박  20400731       44\n",
       "899997  man1555  no.1433     호흡  20400731       18\n",
       "899998  man1555  no.1433     체온  20400731     36.6\n",
       "899999  man1555  no.1433    SBP  20400731      140\n",
       "\n",
       "[266239 rows x 5 columns]"
      ]
     },
     "execution_count": 35,
     "metadata": {},
     "output_type": "execute_result"
    }
   ],
   "source": [
    "df_sign[df_sign.VTHOS_NO.str.contains('man')]"
   ]
  },
  {
   "cell_type": "code",
   "execution_count": 39,
   "id": "c093521a-39e6-43ce-b997-2f49e76427e6",
   "metadata": {},
   "outputs": [
    {
     "data": {
      "text/plain": [
       "INP_YMD\n",
       "20710120    28\n",
       "20710117    24\n",
       "20710118    23\n",
       "20710119    20\n",
       "20710122    18\n",
       "20710121    15\n",
       "20710116    10\n",
       "20710123    10\n",
       "20710124    10\n",
       "Name: count, dtype: int64"
      ]
     },
     "execution_count": 39,
     "metadata": {},
     "output_type": "execute_result"
    }
   ],
   "source": [
    "df_sign[df_sign.VTHOS_NO == 'man3084'].INP_YMD.value_counts()"
   ]
  },
  {
   "cell_type": "code",
   "execution_count": null,
   "id": "9b87de80-099b-4d69-9d91-17030f2f4c37",
   "metadata": {},
   "outputs": [],
   "source": []
  }
 ],
 "metadata": {
  "kernelspec": {
   "display_name": "Python 3 (ipykernel)",
   "language": "python",
   "name": "python3"
  },
  "language_info": {
   "codemirror_mode": {
    "name": "ipython",
    "version": 3
   },
   "file_extension": ".py",
   "mimetype": "text/x-python",
   "name": "python",
   "nbconvert_exporter": "python",
   "pygments_lexer": "ipython3",
   "version": "3.9.13"
  }
 },
 "nbformat": 4,
 "nbformat_minor": 5
}
